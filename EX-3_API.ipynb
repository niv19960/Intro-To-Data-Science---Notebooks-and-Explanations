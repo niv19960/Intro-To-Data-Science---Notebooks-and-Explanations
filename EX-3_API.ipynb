{
 "cells": [
  {
   "cell_type": "code",
   "execution_count": 1,
   "metadata": {},
   "outputs": [],
   "source": [
    "import requests\n",
    "import pandas as pd\n",
    "\n",
    "israel_weather = None\n",
    "cities = ['Jerusalem','Tel Aviv','Haifa','Holon','Bat Yam']\n",
    "\n",
    "#We want to get get the current weather data for the above cities in Israel using the api from the site:\n",
    "# https://weatherstack.com/\n",
    "\n",
    "#Step 1: Create an account at https://weatherstack.com/signup/free\n",
    "#Step 2: Copy your access key from the page after you sign up\n",
    "#Step 3: Create a loop on the array of cities above and using the get method in the python requests library \n",
    "#        fetch the current weather for each city\n",
    "#Step 4: Use the json_normalize function of pandas to flatten and load the data that you got for each city\n",
    "#Step 5: Using an if\\else statement initialize the israel_weather variable to the first city dataframe if it is not initializes\n",
    "#        If it is already initialized, then use the append method to add the data for the next city to your existing dataframe\n",
    "#Step 6: Using pandas max function, check what is the highest temprature in any city right now and \n",
    "#        what is the highest wind speed right now in any city?\n",
    "#Step 8: Save your data to a csv file using the to_csv method of pandas\n",
    "#Step 9: Check you csv file. Is the data for all the cities there? Are all the cities in Israel? \n",
    "#        If not, how can you fix this issue?\n",
    "\n"
   ]
  },
  {
   "cell_type": "code",
   "execution_count": 13,
   "metadata": {},
   "outputs": [
    {
     "name": "stdout",
     "output_type": "stream",
     "text": [
      "200\n",
      "<Response [200]>\n",
      "<class 'dict'>\n",
      "{'request': {'type': 'City', 'query': 'Jerusalem, Israel', 'language': 'en', 'unit': 'm'}, 'location': {'name': 'Jerusalem', 'country': 'Israel', 'region': 'Yerushalayim', 'lat': '31.780', 'lon': '35.230', 'timezone_id': 'Asia/Jerusalem', 'localtime': '2021-10-31 10:10', 'localtime_epoch': 1635675000, 'utc_offset': '2.0'}, 'current': {'observation_time': '08:10 AM', 'temperature': 25, 'weather_code': 296, 'weather_icons': ['https://assets.weatherstack.com/images/wsymbols01_png_64/wsymbol_0017_cloudy_with_light_rain.png'], 'weather_descriptions': ['Light Rain'], 'wind_speed': 15, 'wind_degree': 170, 'wind_dir': 'S', 'pressure': 1018, 'precip': 0, 'humidity': 57, 'cloudcover': 0, 'feelslike': 26, 'uv_index': 6, 'visibility': 10, 'is_day': 'yes'}}\n",
      "200\n",
      "<Response [200]>\n",
      "<class 'dict'>\n",
      "{'request': {'type': 'City', 'query': 'Tel Aviv-Yafo, Israel', 'language': 'en', 'unit': 'm'}, 'location': {'name': 'Tel Aviv-Yafo', 'country': 'Israel', 'region': 'Tel Aviv', 'lat': '32.068', 'lon': '34.765', 'timezone_id': 'Asia/Jerusalem', 'localtime': '2021-10-31 10:10', 'localtime_epoch': 1635675000, 'utc_offset': '2.0'}, 'current': {'observation_time': '08:10 AM', 'temperature': 25, 'weather_code': 296, 'weather_icons': ['https://assets.weatherstack.com/images/wsymbols01_png_64/wsymbol_0017_cloudy_with_light_rain.png'], 'weather_descriptions': ['Light Rain'], 'wind_speed': 15, 'wind_degree': 170, 'wind_dir': 'S', 'pressure': 1018, 'precip': 0, 'humidity': 57, 'cloudcover': 0, 'feelslike': 26, 'uv_index': 6, 'visibility': 10, 'is_day': 'yes'}}\n",
      "200\n",
      "<Response [200]>\n",
      "<class 'dict'>\n",
      "{'request': {'type': 'City', 'query': 'Haifa, Israel', 'language': 'en', 'unit': 'm'}, 'location': {'name': 'Haifa', 'country': 'Israel', 'region': 'Hefa', 'lat': '32.816', 'lon': '34.989', 'timezone_id': 'Asia/Jerusalem', 'localtime': '2021-10-31 10:10', 'localtime_epoch': 1635675000, 'utc_offset': '2.0'}, 'current': {'observation_time': '08:10 AM', 'temperature': 22, 'weather_code': 113, 'weather_icons': ['https://assets.weatherstack.com/images/wsymbols01_png_64/wsymbol_0001_sunny.png'], 'weather_descriptions': ['Sunny'], 'wind_speed': 24, 'wind_degree': 130, 'wind_dir': 'SE', 'pressure': 1018, 'precip': 0, 'humidity': 65, 'cloudcover': 0, 'feelslike': 24, 'uv_index': 6, 'visibility': 10, 'is_day': 'yes'}}\n",
      "200\n",
      "<Response [200]>\n",
      "<class 'dict'>\n",
      "{'request': {'type': 'City', 'query': 'Holon Dasht, Iran', 'language': 'en', 'unit': 'm'}, 'location': {'name': 'Holon Dasht', 'country': 'Iran', 'region': 'Lorestan', 'lat': '33.509', 'lon': '48.513', 'timezone_id': 'Asia/Tehran', 'localtime': '2021-10-31 11:40', 'localtime_epoch': 1635680400, 'utc_offset': '3.50'}, 'current': {'observation_time': '08:10 AM', 'temperature': 23, 'weather_code': 113, 'weather_icons': ['https://assets.weatherstack.com/images/wsymbols01_png_64/wsymbol_0001_sunny.png'], 'weather_descriptions': ['Sunny'], 'wind_speed': 4, 'wind_degree': 40, 'wind_dir': 'NE', 'pressure': 1029, 'precip': 0, 'humidity': 29, 'cloudcover': 0, 'feelslike': 24, 'uv_index': 6, 'visibility': 10, 'is_day': 'yes'}}\n",
      "200\n",
      "<Response [200]>\n",
      "<class 'dict'>\n",
      "{'request': {'type': 'City', 'query': 'Bat Yam, Israel', 'language': 'en', 'unit': 'm'}, 'location': {'name': 'Bat Yam', 'country': 'Israel', 'region': 'Tel Aviv', 'lat': '32.023', 'lon': '34.750', 'timezone_id': 'Asia/Jerusalem', 'localtime': '2021-10-31 10:10', 'localtime_epoch': 1635675000, 'utc_offset': '2.0'}, 'current': {'observation_time': '08:10 AM', 'temperature': 25, 'weather_code': 296, 'weather_icons': ['https://assets.weatherstack.com/images/wsymbols01_png_64/wsymbol_0017_cloudy_with_light_rain.png'], 'weather_descriptions': ['Light Rain'], 'wind_speed': 15, 'wind_degree': 170, 'wind_dir': 'S', 'pressure': 1018, 'precip': 0, 'humidity': 57, 'cloudcover': 0, 'feelslike': 26, 'uv_index': 6, 'visibility': 10, 'is_day': 'yes'}}\n"
     ]
    }
   ],
   "source": [
    "#SOLUTION\n",
    "cities = ['Jerusalem','Tel Aviv','Haifa','Holon','Bat Yam']\n",
    "for city in cities:\n",
    "    response = requests.get('http://api.weatherstack.com/current?access_key=743932d6d81d4770826113b1ead7ba8f&query='+city)\n",
    "    print(response.status_code)\n",
    "    print(response)\n",
    "    # json content\n",
    "    j = response.json()\n",
    "    print(type(j))\n",
    "    print(j)\n",
    "    row = pd.json_normalize(j)\n",
    "    #print(df)\n",
    "    if israel_weather is None:\n",
    "        israel_weather = row\n",
    "    else:\n",
    "        israel_weather = israel_weather.append(row)\n",
    "#print(israel_weather)\n",
    "#print(israel_weather.max())\n",
    "\n",
    "israel_weather.to_csv(\"israel_weather.csv\")"
   ]
  },
  {
   "cell_type": "code",
   "execution_count": null,
   "metadata": {},
   "outputs": [],
   "source": []
  }
 ],
 "metadata": {
  "kernelspec": {
   "display_name": "Python 3",
   "language": "python",
   "name": "python3"
  },
  "language_info": {
   "codemirror_mode": {
    "name": "ipython",
    "version": 3
   },
   "file_extension": ".py",
   "mimetype": "text/x-python",
   "name": "python",
   "nbconvert_exporter": "python",
   "pygments_lexer": "ipython3",
   "version": "3.8.3"
  }
 },
 "nbformat": 4,
 "nbformat_minor": 5
}
